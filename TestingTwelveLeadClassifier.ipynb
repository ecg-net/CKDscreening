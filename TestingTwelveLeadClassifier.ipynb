{
 "cells": [
  {
   "cell_type": "code",
   "execution_count": null,
   "metadata": {},
   "outputs": [],
   "source": []
  },
  {
   "cell_type": "code",
   "execution_count": 61,
   "metadata": {},
   "outputs": [],
   "source": [
    "root = '/path/to/npy/file/root'\n",
    "test_csv = '/path/to/filename/and/labels/csv'\n",
    "\n",
    "#name of the column where the binary label for CKD/No CKD is stored\n",
    "target='label'"
   ]
  },
  {
   "cell_type": "code",
   "execution_count": 57,
   "metadata": {},
   "outputs": [],
   "source": [
    "import numpy as np\n",
    "from paths import FilePaths\n",
    "from tuningfunctions import get_data_loaders, get_criterion, Objective, run_trials\n",
    "import models\n",
    "import torch\n",
    "import pandas as pd\n",
    "import matplotlib.pyplot as plt\n",
    "from ECG import EchoECG\n",
    "from constants import MODEL_NAME, OPTIMIZERS, MAX_EPOCHS, METRIC, MIN_LR, MAX_LR, PATIENCE, SCHEDULER, STEP, GAMMA, PRUNER, NUM_TRIALS, DIRECTION\n",
    "import wandb\n",
    "from tqdm import tqdm\n",
    "import sklearn"
   ]
  },
  {
   "cell_type": "code",
   "execution_count": 58,
   "metadata": {},
   "outputs": [],
   "source": [
    "torch.cuda.empty_cache()"
   ]
  },
  {
   "cell_type": "code",
   "execution_count": 59,
   "metadata": {},
   "outputs": [],
   "source": [
    "def collate_fn(batch):\n",
    "    batch = list(filter(lambda x: x != None, batch))\n",
    "    return torch.utils.data.dataloader.default_collate(batch)"
   ]
  },
  {
   "cell_type": "code",
   "execution_count": 62,
   "metadata": {},
   "outputs": [],
   "source": [
    "model = models.EffNet(channels = [32,16,24,40,80,112,192,320,1280,1],dilation = 2,\n",
    "                                  stride = 8,\n",
    "                                  reg = False, \n",
    "                                  start_channels=12)"
   ]
  },
  {
   "cell_type": "code",
   "execution_count": 63,
   "metadata": {},
   "outputs": [],
   "source": [
    "model.load_state_dict(torch.load('twelve_lead_weights.pt'))"
   ]
  },
  {
   "cell_type": "code",
   "execution_count": 64,
   "metadata": {},
   "outputs": [],
   "source": [
    "model.eval()"
   ]
  },
  {
   "cell_type": "code",
   "execution_count": 67,
   "metadata": {},
   "outputs": [],
   "source": [
    "\n",
    "test_ds = EchoECG(root=root,\n",
    "                  csv=test_csv,\n",
    "                  model='RCRI_Net', \n",
    "                  rolling=0, \n",
    "                  downsample=1,\n",
    "                  target=target, \n",
    "                  one_lead=False,\n",
    "                  return_filename=False)\n",
    "print(len(test_ds)) \n",
    "bs = 2000\n",
    "test_dataloader=torch.utils.data.DataLoader(test_ds,\n",
    "                                            batch_size=bs, \n",
    "                                            num_workers=40, \n",
    "                                            drop_last=False, \n",
    "                                            collate_fn=collate_fn)"
   ]
  },
  {
   "cell_type": "code",
   "execution_count": 68,
   "metadata": {},
   "outputs": [],
   "source": [
    "all_labels = []\n",
    "all_preds = []\n",
    "with torch.no_grad():\n",
    "    for ecg, labels in tqdm(test_dataloader):\n",
    "        \n",
    "        all_preds += list(model(ecg))\n",
    "        all_labels += list(labels)\n",
    "        "
   ]
  },
  {
   "cell_type": "code",
   "execution_count": 70,
   "metadata": {},
   "outputs": [],
   "source": [
    "cm=sklearn.metrics.confusion_matrix(all_labels, [x>0.5 for x in all_preds])\n",
    "sklearn.metrics.ConfusionMatrixDisplay(cm).plot()\n",
    "\n",
    "fpr, tpr, thresholds = sklearn.metrics.roc_curve(all_labels, all_preds)\n",
    "sklearn.metrics.RocCurveDisplay(fpr=fpr, tpr=tpr).plot()\n",
    "print(sklearn.metrics.auc(fpr, tpr))"
   ]
  }
 ],
 "metadata": {
  "kernelspec": {
   "display_name": "Python 3",
   "language": "python",
   "name": "python3"
  },
  "language_info": {
   "codemirror_mode": {
    "name": "ipython",
    "version": 3
   },
   "file_extension": ".py",
   "mimetype": "text/x-python",
   "name": "python",
   "nbconvert_exporter": "python",
   "pygments_lexer": "ipython3",
   "version": "3.8.5"
  }
 },
 "nbformat": 4,
 "nbformat_minor": 4
}
