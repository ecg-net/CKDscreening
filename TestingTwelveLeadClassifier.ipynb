{
 "cells": [
  {
   "cell_type": "code",
   "execution_count": 57,
   "metadata": {},
   "outputs": [],
   "source": [
    "import numpy as np\n",
    "\n",
    "from paths import FilePaths\n",
    "from tuningfunctions import get_data_loaders, get_criterion, Objective, run_trials\n",
    "import models\n",
    "import torch\n",
    "import pandas as pd\n",
    "import matplotlib.pyplot as plt\n",
    "from ECG import EchoECG\n",
    "from constants import MODEL_NAME, OPTIMIZERS, MAX_EPOCHS, METRIC, MIN_LR, MAX_LR, PATIENCE, SCHEDULER, STEP, GAMMA, PRUNER, NUM_TRIALS, DIRECTION\n",
    "import wandb\n",
    "from tqdm import tqdm\n",
    "import sklearn"
   ]
  },
  {
   "cell_type": "code",
   "execution_count": 58,
   "metadata": {},
   "outputs": [],
   "source": [
    "torch.cuda.empty_cache()"
   ]
  },
  {
   "cell_type": "code",
   "execution_count": 59,
   "metadata": {},
   "outputs": [],
   "source": [
    "def collate_fn(batch):\n",
    "    batch = list(filter(lambda x: x != None, batch))\n",
    "    return torch.utils.data.dataloader.default_collate(batch)"
   ]
  },
  {
   "cell_type": "code",
   "execution_count": 60,
   "metadata": {},
   "outputs": [],
   "source": [
    "    #'1 heartbeat': '/workspace/data/drives/Internal_SSD/sdd/data/Limited Datasets/2008-2020 EKG QRS Numpy',\n",
    "    #'P Include': '/workspace/data/drives/Internal_SSD/sdd/data/Limited Datasets/P_include',\n",
    "    #'P Exclude':'/workspace/data/drives/Internal_SSD/sdd/data/Limited Datasets/P_exclude',\n",
    "    #'QRS Include':'/workspace/data/drives/Internal_SSD/sdd/data/Limited Datasets/QRS_include',\n",
    "    #'QRS Exclude':'/workspace/data/drives/Internal_SSD/sdd/data/Limited Datasets/QRS_exclude',\n",
    "    #'T Include':'/workspace/data/drives/Internal_SSD/sdb/data/Limited Datasets/T_include',\n",
    "    #'T Exclude':'/workspace/data/drives/Internal_SSD/sdb/data/Limited Datasets/T_exclude'"
   ]
  },
  {
   "cell_type": "code",
   "execution_count": 61,
   "metadata": {},
   "outputs": [],
   "source": [
    "root = '/workspace/data/drives/Local_SSD/sdd/data/Remade with New Coefficents'\n",
    "model_origin = 'RCRI_Net'\n",
    "target='label'"
   ]
  },
  {
   "cell_type": "code",
   "execution_count": 62,
   "metadata": {},
   "outputs": [],
   "source": [
    "model = models.EffNet(channels = [32,16,24,40,80,112,192,320,1280,1],dilation = 2,\n",
    "                                  stride = 8,\n",
    "                                  reg = False, \n",
    "                                  start_channels=12)\n",
    "                                 #,num_additional_features=2)"
   ]
  },
  {
   "cell_type": "code",
   "execution_count": 63,
   "metadata": {},
   "outputs": [],
   "source": [
    "model.load_state_dict(torch.load('/workspace/kai/phecode/Training/CLASSIFIER_DEFINITIVE/CLASSIFIER_DEFINITIVE/best_roc_model_56_val_roc=0.7412.pt'))"
   ]
  },
  {
   "cell_type": "code",
   "execution_count": 64,
   "metadata": {},
   "outputs": [],
   "source": [
    "model.eval()"
   ]
  },
  {
   "cell_type": "markdown",
   "metadata": {},
   "source": [
    "test_ = pd.read_csv(test_csv)"
   ]
  },
  {
   "cell_type": "markdown",
   "metadata": {},
   "source": [
    "stages = [expand_icd_codes(['585.1','585.2','N18.1','N18.2']),\n",
    "          expand_icd_codes(['585.3','585.4','585.5','N18.3','N18.4','N18.5',]), \n",
    "          expand_icd_codes(['585.6','N18.6'])]\n",
    "names = ['mild', 'moderate', 'ESRD']"
   ]
  },
  {
   "cell_type": "markdown",
   "metadata": {},
   "source": [
    "for i, stage in enumerate(stages):\n",
    "    temp_df = test_[test_.ICD9_CD_LIST.astype(str).isin([*stage, 'nan']) \n",
    "                    |test_.ICD10_CD_LIST.astype(str).isin([*stage, 'nan'])].copy()\n",
    "    temp_df.to_csv(f'/workspace/data/drives/Local_SSD/sdc/kidney_disease/ckd_data_negative_sensitivity/only_{names[i]}_test.csv')"
   ]
  },
  {
   "cell_type": "code",
   "execution_count": 65,
   "metadata": {},
   "outputs": [],
   "source": [
    "root_dir = '/workspace/data/drives/Local_SSD/sdc/kidney_disease/DefinitiveAllStagesData/'\n",
    "extensions = ['Mild_test_young.csv',\n",
    "              'Mild_test_old.csv',\n",
    "              'Moderate_test_young.csv',\n",
    "              'Moderate_test_old.csv',\n",
    "              'ESRD_test_young.csv',\n",
    "              'ESRD_test_old.csv',\n",
    "              'all_stages_test.csv',\n",
    "              'under_60_years_old_subset_test.csv']"
   ]
  },
  {
   "cell_type": "code",
   "execution_count": 67,
   "metadata": {},
   "outputs": [],
   "source": [
    "\n",
    "test_ds = EchoECG(root=root,\n",
    "                  csv=root_dir + 'all_stages_test.csv',###extensions[4],\n",
    "                  model=model_origin, \n",
    "                  rolling=0, \n",
    "                  downsample=1,\n",
    "                  target=target, \n",
    "                  one_lead=False,\n",
    "                  return_filename=True)\n",
    "print(len(test_ds)) \n",
    "bs = 2000\n",
    "test_dataloader=torch.utils.data.DataLoader(test_ds,\n",
    "                                            batch_size=bs, \n",
    "                                            num_workers=40, \n",
    "                                            drop_last=False, \n",
    "                                            collate_fn=collate_fn)"
   ]
  },
  {
   "cell_type": "code",
   "execution_count": 68,
   "metadata": {},
   "outputs": [],
   "source": [
    "all_labels = []\n",
    "all_preds = []\n",
    "all_fnames = []\n",
    "with torch.no_grad():\n",
    "    for ecg, labels, fnames in tqdm(test_dataloader):\n",
    "        \n",
    "        all_preds += list(model(ecg))\n",
    "        all_labels += list(labels)\n",
    "        all_fnames += list(fnames)\n",
    "        "
   ]
  },
  {
   "cell_type": "code",
   "execution_count": 69,
   "metadata": {},
   "outputs": [],
   "source": [
    "print(len(all_labels))\n",
    "print(len(all_preds))\n",
    "print(len(all_fnames))"
   ]
  },
  {
   "cell_type": "code",
   "execution_count": 70,
   "metadata": {},
   "outputs": [],
   "source": [
    "cm=sklearn.metrics.confusion_matrix(all_labels, [x>0.5 for x in all_preds])\n",
    "sklearn.metrics.ConfusionMatrixDisplay(cm).plot()\n",
    "\n",
    "fpr, tpr, thresholds = sklearn.metrics.roc_curve(all_labels, all_preds)\n",
    "sklearn.metrics.RocCurveDisplay(fpr=fpr, tpr=tpr).plot()\n",
    "print(sklearn.metrics.auc(fpr, tpr))"
   ]
  },
  {
   "cell_type": "code",
   "execution_count": 78,
   "metadata": {},
   "outputs": [],
   "source": [
    "all_predictions_test = pd.DataFrame({'Filename':all_fnames,'twelve_lead_prediction':torch.cat(all_preds),'has_ckd': torch.cat(all_labels)})"
   ]
  },
  {
   "cell_type": "code",
   "execution_count": 79,
   "metadata": {},
   "outputs": [],
   "source": [
    "all_predictions_test"
   ]
  },
  {
   "cell_type": "code",
   "execution_count": 81,
   "metadata": {},
   "outputs": [],
   "source": [
    "fpr, tpr, thresholds = sklearn.metrics.roc_curve(all_predictions_test.has_ckd, all_predictions_test.twelve_lead_prediction)\n",
    "sklearn.metrics.RocCurveDisplay(fpr=fpr, tpr=tpr).plot()\n",
    "print(sklearn.metrics.auc(fpr, tpr))"
   ]
  },
  {
   "cell_type": "code",
   "execution_count": 82,
   "metadata": {},
   "outputs": [],
   "source": [
    "all_predictions_test.to_csv('/workspace/data/drives/Local_SSD/sdc/kidney_disease/DefinitiveAllStagesData/definitive_12_lead_eval_test.csv')"
   ]
  },
  {
   "cell_type": "code",
   "execution_count": null,
   "metadata": {},
   "outputs": [],
   "source": []
  }
 ],
 "metadata": {
  "kernelspec": {
   "display_name": "Python 3",
   "language": "python",
   "name": "python3"
  },
  "language_info": {
   "codemirror_mode": {
    "name": "ipython",
    "version": 3
   },
   "file_extension": ".py",
   "mimetype": "text/x-python",
   "name": "python",
   "nbconvert_exporter": "python",
   "pygments_lexer": "ipython3",
   "version": "3.8.5"
  }
 },
 "nbformat": 4,
 "nbformat_minor": 4
}
